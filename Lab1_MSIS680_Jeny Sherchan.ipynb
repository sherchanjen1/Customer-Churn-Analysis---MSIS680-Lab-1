{
 "cells": [
  {
   "cell_type": "markdown",
   "id": "8b1fca77-e856-46cc-8249-b028075d8210",
   "metadata": {},
   "source": [
    "# Lab1 - Supervised Machine Learning \n",
    "\n",
    "In this lab, you will practice using sklearn and statsmodel package to fit machine learning models for predictive and explainatory purposes. \n",
    "\n",
    "## Machine Learning For Predictive Purposes\n",
    "- KNN\n",
    "- Logistic Regression \n",
    "- SVM\n",
    "- Naive Bayes\n",
    "- Decision Tree\n",
    "- Random Forest \n",
    "- Gradient Boost\n",
    "\n",
    "### Model Selection \n",
    "- Grid Search \n",
    "- General Ensembled Classifier\n",
    "\n",
    "## Machine Learning For Explainatory Purposes \n",
    "- Linear / Logistic Regression \n",
    "- Permutation feature importance"
   ]
  },
  {
   "cell_type": "code",
   "execution_count": 54,
   "id": "2453ca72-eab4-4d84-a6cd-4861fd695dba",
   "metadata": {},
   "outputs": [],
   "source": [
    "import pandas as pd \n",
    "import numpy as np \n",
    "import matplotlib.pyplot as plt \n",
    "import seaborn as sns\n",
    "\n",
    "import warnings\n",
    "warnings.filterwarnings(\"ignore\")\n",
    "\n",
    "%matplotlib inline "
   ]
  },
  {
   "cell_type": "markdown",
   "id": "5a58156a-cf62-4785-b7cd-5929b88611ef",
   "metadata": {},
   "source": [
    "### The Customer Churn Data Set \n",
    "\n",
    "This dataset is randomly collected from an Iranian telecom company database over a period of 12 months. \n",
    "A total of 3150 rows of data, each representing a customer, bear information for 13 columns. The attributes that are in this dataset are call failures, frequency of SMS, number of complaints, number of distinct calls, subscription length, age group, the charge amount, type of service, seconds of use, status, frequency of use, and Customer Value.\n",
    "\n",
    "All of the attributes except for attribute churn is the aggregated data of the first 9 months. The churn labels are the state of the customers at the end of 12 months. The three months is the designated planning gap.\n",
    "\n",
    "**Attribute Information:**\n",
    "\n",
    "- Call Failures: number of call failures\n",
    "- Complains: binary (0: No complaint, 1: complaint)\n",
    "- Subscription Length: total months of subscription\n",
    "- Charge Amount: Ordinal attribute (0: lowest amount, 9: highest amount)\n",
    "- Seconds of Use: total seconds of calls\n",
    "- Frequency of use: total number of calls\n",
    "- Frequency of SMS: total number of text messages\n",
    "- Distinct Called Numbers: total number of distinct phone calls\n",
    "- Age Group: ordinal attribute (1: younger age, 5: older age)\n",
    "- Tariff Plan: binary (1: Pay as you go, 2: contractual)\n",
    "- Status: binary (1: active, 2: non-active)\n",
    "- Customer Value: The calculated value of customer\n",
    "- Churn (Y): binary (1: churn, 0: non-churn) - Class label"
   ]
  },
  {
   "cell_type": "markdown",
   "id": "fa77c027-3a97-4fb1-a7ac-403b0bc6564a",
   "metadata": {},
   "source": [
    "## Data Understanding "
   ]
  },
  {
   "cell_type": "code",
   "execution_count": 102,
   "id": "ed09aa02-0472-400a-8b36-c4fbc1091098",
   "metadata": {},
   "outputs": [
    {
     "data": {
      "text/html": [
       "<div>\n",
       "<style scoped>\n",
       "    .dataframe tbody tr th:only-of-type {\n",
       "        vertical-align: middle;\n",
       "    }\n",
       "\n",
       "    .dataframe tbody tr th {\n",
       "        vertical-align: top;\n",
       "    }\n",
       "\n",
       "    .dataframe thead th {\n",
       "        text-align: right;\n",
       "    }\n",
       "</style>\n",
       "<table border=\"1\" class=\"dataframe\">\n",
       "  <thead>\n",
       "    <tr style=\"text-align: right;\">\n",
       "      <th></th>\n",
       "      <th>Call  Failure</th>\n",
       "      <th>Complains</th>\n",
       "      <th>Subscription  Length</th>\n",
       "      <th>Charge  Amount</th>\n",
       "      <th>Seconds of Use</th>\n",
       "      <th>Frequency of use</th>\n",
       "      <th>Frequency of SMS</th>\n",
       "      <th>Distinct Called Numbers</th>\n",
       "      <th>Age Group</th>\n",
       "      <th>Tariff Plan</th>\n",
       "      <th>Status</th>\n",
       "      <th>Customer Value</th>\n",
       "      <th>Churn</th>\n",
       "    </tr>\n",
       "  </thead>\n",
       "  <tbody>\n",
       "    <tr>\n",
       "      <th>0</th>\n",
       "      <td>8</td>\n",
       "      <td>0</td>\n",
       "      <td>38</td>\n",
       "      <td>0</td>\n",
       "      <td>4370</td>\n",
       "      <td>71</td>\n",
       "      <td>5</td>\n",
       "      <td>17</td>\n",
       "      <td>3</td>\n",
       "      <td>1</td>\n",
       "      <td>1</td>\n",
       "      <td>197.640</td>\n",
       "      <td>0</td>\n",
       "    </tr>\n",
       "    <tr>\n",
       "      <th>1</th>\n",
       "      <td>0</td>\n",
       "      <td>0</td>\n",
       "      <td>39</td>\n",
       "      <td>0</td>\n",
       "      <td>318</td>\n",
       "      <td>5</td>\n",
       "      <td>7</td>\n",
       "      <td>4</td>\n",
       "      <td>2</td>\n",
       "      <td>1</td>\n",
       "      <td>2</td>\n",
       "      <td>46.035</td>\n",
       "      <td>0</td>\n",
       "    </tr>\n",
       "    <tr>\n",
       "      <th>2</th>\n",
       "      <td>10</td>\n",
       "      <td>0</td>\n",
       "      <td>37</td>\n",
       "      <td>0</td>\n",
       "      <td>2453</td>\n",
       "      <td>60</td>\n",
       "      <td>359</td>\n",
       "      <td>24</td>\n",
       "      <td>3</td>\n",
       "      <td>1</td>\n",
       "      <td>1</td>\n",
       "      <td>1536.520</td>\n",
       "      <td>0</td>\n",
       "    </tr>\n",
       "    <tr>\n",
       "      <th>3</th>\n",
       "      <td>10</td>\n",
       "      <td>0</td>\n",
       "      <td>38</td>\n",
       "      <td>0</td>\n",
       "      <td>4198</td>\n",
       "      <td>66</td>\n",
       "      <td>1</td>\n",
       "      <td>35</td>\n",
       "      <td>1</td>\n",
       "      <td>1</td>\n",
       "      <td>1</td>\n",
       "      <td>240.020</td>\n",
       "      <td>0</td>\n",
       "    </tr>\n",
       "    <tr>\n",
       "      <th>4</th>\n",
       "      <td>3</td>\n",
       "      <td>0</td>\n",
       "      <td>38</td>\n",
       "      <td>0</td>\n",
       "      <td>2393</td>\n",
       "      <td>58</td>\n",
       "      <td>2</td>\n",
       "      <td>33</td>\n",
       "      <td>1</td>\n",
       "      <td>1</td>\n",
       "      <td>1</td>\n",
       "      <td>145.805</td>\n",
       "      <td>0</td>\n",
       "    </tr>\n",
       "  </tbody>\n",
       "</table>\n",
       "</div>"
      ],
      "text/plain": [
       "   Call  Failure  Complains  Subscription  Length  Charge  Amount  \\\n",
       "0              8          0                    38               0   \n",
       "1              0          0                    39               0   \n",
       "2             10          0                    37               0   \n",
       "3             10          0                    38               0   \n",
       "4              3          0                    38               0   \n",
       "\n",
       "   Seconds of Use  Frequency of use  Frequency of SMS  \\\n",
       "0            4370                71                 5   \n",
       "1             318                 5                 7   \n",
       "2            2453                60               359   \n",
       "3            4198                66                 1   \n",
       "4            2393                58                 2   \n",
       "\n",
       "   Distinct Called Numbers  Age Group  Tariff Plan  Status  Customer Value  \\\n",
       "0                       17          3            1       1         197.640   \n",
       "1                        4          2            1       2          46.035   \n",
       "2                       24          3            1       1        1536.520   \n",
       "3                       35          1            1       1         240.020   \n",
       "4                       33          1            1       1         145.805   \n",
       "\n",
       "   Churn  \n",
       "0      0  \n",
       "1      0  \n",
       "2      0  \n",
       "3      0  \n",
       "4      0  "
      ]
     },
     "execution_count": 102,
     "metadata": {},
     "output_type": "execute_result"
    }
   ],
   "source": [
    "data = pd.read_csv(\"/Users/jenysherchan/Downloads/customer_churn.csv\")\n",
    "data.head()"
   ]
  },
  {
   "cell_type": "code",
   "execution_count": 104,
   "id": "8edad4ce-4278-401b-875b-daa886dec289",
   "metadata": {},
   "outputs": [
    {
     "name": "stdout",
     "output_type": "stream",
     "text": [
      "<class 'pandas.core.frame.DataFrame'>\n",
      "RangeIndex: 3150 entries, 0 to 3149\n",
      "Data columns (total 13 columns):\n",
      " #   Column                   Non-Null Count  Dtype  \n",
      "---  ------                   --------------  -----  \n",
      " 0   Call  Failure            3150 non-null   int64  \n",
      " 1   Complains                3150 non-null   int64  \n",
      " 2   Subscription  Length     3150 non-null   int64  \n",
      " 3   Charge  Amount           3150 non-null   int64  \n",
      " 4   Seconds of Use           3150 non-null   int64  \n",
      " 5   Frequency of use         3150 non-null   int64  \n",
      " 6   Frequency of SMS         3150 non-null   int64  \n",
      " 7   Distinct Called Numbers  3150 non-null   int64  \n",
      " 8   Age Group                3150 non-null   int64  \n",
      " 9   Tariff Plan              3150 non-null   int64  \n",
      " 10  Status                   3150 non-null   int64  \n",
      " 11  Customer Value           3150 non-null   float64\n",
      " 12  Churn                    3150 non-null   int64  \n",
      "dtypes: float64(1), int64(12)\n",
      "memory usage: 320.1 KB\n"
     ]
    }
   ],
   "source": [
    "data.info()"
   ]
  },
  {
   "cell_type": "code",
   "execution_count": 106,
   "id": "002f04fb-4105-450a-8bf4-4b044369a449",
   "metadata": {},
   "outputs": [
    {
     "data": {
      "text/plain": [
       "Call  Failure              0\n",
       "Complains                  0\n",
       "Subscription  Length       0\n",
       "Charge  Amount             0\n",
       "Seconds of Use             0\n",
       "Frequency of use           0\n",
       "Frequency of SMS           0\n",
       "Distinct Called Numbers    0\n",
       "Age Group                  0\n",
       "Tariff Plan                0\n",
       "Status                     0\n",
       "Customer Value             0\n",
       "Churn                      0\n",
       "dtype: int64"
      ]
     },
     "execution_count": 106,
     "metadata": {},
     "output_type": "execute_result"
    }
   ],
   "source": [
    "## check missing values \n",
    "pd.isna(data).sum()"
   ]
  },
  {
   "cell_type": "code",
   "execution_count": 108,
   "id": "b01b3a26-de8e-498d-8aba-4e527aa61976",
   "metadata": {},
   "outputs": [
    {
     "data": {
      "text/html": [
       "<div>\n",
       "<style scoped>\n",
       "    .dataframe tbody tr th:only-of-type {\n",
       "        vertical-align: middle;\n",
       "    }\n",
       "\n",
       "    .dataframe tbody tr th {\n",
       "        vertical-align: top;\n",
       "    }\n",
       "\n",
       "    .dataframe thead th {\n",
       "        text-align: right;\n",
       "    }\n",
       "</style>\n",
       "<table border=\"1\" class=\"dataframe\">\n",
       "  <thead>\n",
       "    <tr style=\"text-align: right;\">\n",
       "      <th></th>\n",
       "      <th>Call  Failure</th>\n",
       "      <th>Complains</th>\n",
       "      <th>Subscription  Length</th>\n",
       "      <th>Charge  Amount</th>\n",
       "      <th>Seconds of Use</th>\n",
       "      <th>Frequency of use</th>\n",
       "      <th>Frequency of SMS</th>\n",
       "      <th>Distinct Called Numbers</th>\n",
       "      <th>Age Group</th>\n",
       "      <th>Tariff Plan</th>\n",
       "      <th>Status</th>\n",
       "      <th>Customer Value</th>\n",
       "      <th>Churn</th>\n",
       "    </tr>\n",
       "  </thead>\n",
       "  <tbody>\n",
       "    <tr>\n",
       "      <th>count</th>\n",
       "      <td>3150.000000</td>\n",
       "      <td>3150.000000</td>\n",
       "      <td>3150.000000</td>\n",
       "      <td>3150.000000</td>\n",
       "      <td>3150.000000</td>\n",
       "      <td>3150.000000</td>\n",
       "      <td>3150.000000</td>\n",
       "      <td>3150.000000</td>\n",
       "      <td>3150.000000</td>\n",
       "      <td>3150.000000</td>\n",
       "      <td>3150.000000</td>\n",
       "      <td>3150.000000</td>\n",
       "      <td>3150.000000</td>\n",
       "    </tr>\n",
       "    <tr>\n",
       "      <th>mean</th>\n",
       "      <td>7.627937</td>\n",
       "      <td>0.076508</td>\n",
       "      <td>32.541905</td>\n",
       "      <td>0.942857</td>\n",
       "      <td>4472.459683</td>\n",
       "      <td>69.460635</td>\n",
       "      <td>73.174921</td>\n",
       "      <td>23.509841</td>\n",
       "      <td>2.826032</td>\n",
       "      <td>1.077778</td>\n",
       "      <td>1.248254</td>\n",
       "      <td>470.972916</td>\n",
       "      <td>0.157143</td>\n",
       "    </tr>\n",
       "    <tr>\n",
       "      <th>std</th>\n",
       "      <td>7.263886</td>\n",
       "      <td>0.265851</td>\n",
       "      <td>8.573482</td>\n",
       "      <td>1.521072</td>\n",
       "      <td>4197.908687</td>\n",
       "      <td>57.413308</td>\n",
       "      <td>112.237560</td>\n",
       "      <td>17.217337</td>\n",
       "      <td>0.892555</td>\n",
       "      <td>0.267864</td>\n",
       "      <td>0.432069</td>\n",
       "      <td>517.015433</td>\n",
       "      <td>0.363993</td>\n",
       "    </tr>\n",
       "    <tr>\n",
       "      <th>min</th>\n",
       "      <td>0.000000</td>\n",
       "      <td>0.000000</td>\n",
       "      <td>3.000000</td>\n",
       "      <td>0.000000</td>\n",
       "      <td>0.000000</td>\n",
       "      <td>0.000000</td>\n",
       "      <td>0.000000</td>\n",
       "      <td>0.000000</td>\n",
       "      <td>1.000000</td>\n",
       "      <td>1.000000</td>\n",
       "      <td>1.000000</td>\n",
       "      <td>0.000000</td>\n",
       "      <td>0.000000</td>\n",
       "    </tr>\n",
       "    <tr>\n",
       "      <th>25%</th>\n",
       "      <td>1.000000</td>\n",
       "      <td>0.000000</td>\n",
       "      <td>30.000000</td>\n",
       "      <td>0.000000</td>\n",
       "      <td>1391.250000</td>\n",
       "      <td>27.000000</td>\n",
       "      <td>6.000000</td>\n",
       "      <td>10.000000</td>\n",
       "      <td>2.000000</td>\n",
       "      <td>1.000000</td>\n",
       "      <td>1.000000</td>\n",
       "      <td>113.801250</td>\n",
       "      <td>0.000000</td>\n",
       "    </tr>\n",
       "    <tr>\n",
       "      <th>50%</th>\n",
       "      <td>6.000000</td>\n",
       "      <td>0.000000</td>\n",
       "      <td>35.000000</td>\n",
       "      <td>0.000000</td>\n",
       "      <td>2990.000000</td>\n",
       "      <td>54.000000</td>\n",
       "      <td>21.000000</td>\n",
       "      <td>21.000000</td>\n",
       "      <td>3.000000</td>\n",
       "      <td>1.000000</td>\n",
       "      <td>1.000000</td>\n",
       "      <td>228.480000</td>\n",
       "      <td>0.000000</td>\n",
       "    </tr>\n",
       "    <tr>\n",
       "      <th>75%</th>\n",
       "      <td>12.000000</td>\n",
       "      <td>0.000000</td>\n",
       "      <td>38.000000</td>\n",
       "      <td>1.000000</td>\n",
       "      <td>6478.250000</td>\n",
       "      <td>95.000000</td>\n",
       "      <td>87.000000</td>\n",
       "      <td>34.000000</td>\n",
       "      <td>3.000000</td>\n",
       "      <td>1.000000</td>\n",
       "      <td>1.000000</td>\n",
       "      <td>788.388750</td>\n",
       "      <td>0.000000</td>\n",
       "    </tr>\n",
       "    <tr>\n",
       "      <th>max</th>\n",
       "      <td>36.000000</td>\n",
       "      <td>1.000000</td>\n",
       "      <td>47.000000</td>\n",
       "      <td>10.000000</td>\n",
       "      <td>17090.000000</td>\n",
       "      <td>255.000000</td>\n",
       "      <td>522.000000</td>\n",
       "      <td>97.000000</td>\n",
       "      <td>5.000000</td>\n",
       "      <td>2.000000</td>\n",
       "      <td>2.000000</td>\n",
       "      <td>2165.280000</td>\n",
       "      <td>1.000000</td>\n",
       "    </tr>\n",
       "  </tbody>\n",
       "</table>\n",
       "</div>"
      ],
      "text/plain": [
       "       Call  Failure    Complains  Subscription  Length  Charge  Amount  \\\n",
       "count    3150.000000  3150.000000           3150.000000     3150.000000   \n",
       "mean        7.627937     0.076508             32.541905        0.942857   \n",
       "std         7.263886     0.265851              8.573482        1.521072   \n",
       "min         0.000000     0.000000              3.000000        0.000000   \n",
       "25%         1.000000     0.000000             30.000000        0.000000   \n",
       "50%         6.000000     0.000000             35.000000        0.000000   \n",
       "75%        12.000000     0.000000             38.000000        1.000000   \n",
       "max        36.000000     1.000000             47.000000       10.000000   \n",
       "\n",
       "       Seconds of Use  Frequency of use  Frequency of SMS  \\\n",
       "count     3150.000000       3150.000000       3150.000000   \n",
       "mean      4472.459683         69.460635         73.174921   \n",
       "std       4197.908687         57.413308        112.237560   \n",
       "min          0.000000          0.000000          0.000000   \n",
       "25%       1391.250000         27.000000          6.000000   \n",
       "50%       2990.000000         54.000000         21.000000   \n",
       "75%       6478.250000         95.000000         87.000000   \n",
       "max      17090.000000        255.000000        522.000000   \n",
       "\n",
       "       Distinct Called Numbers    Age Group  Tariff Plan       Status  \\\n",
       "count              3150.000000  3150.000000  3150.000000  3150.000000   \n",
       "mean                 23.509841     2.826032     1.077778     1.248254   \n",
       "std                  17.217337     0.892555     0.267864     0.432069   \n",
       "min                   0.000000     1.000000     1.000000     1.000000   \n",
       "25%                  10.000000     2.000000     1.000000     1.000000   \n",
       "50%                  21.000000     3.000000     1.000000     1.000000   \n",
       "75%                  34.000000     3.000000     1.000000     1.000000   \n",
       "max                  97.000000     5.000000     2.000000     2.000000   \n",
       "\n",
       "       Customer Value        Churn  \n",
       "count     3150.000000  3150.000000  \n",
       "mean       470.972916     0.157143  \n",
       "std        517.015433     0.363993  \n",
       "min          0.000000     0.000000  \n",
       "25%        113.801250     0.000000  \n",
       "50%        228.480000     0.000000  \n",
       "75%        788.388750     0.000000  \n",
       "max       2165.280000     1.000000  "
      ]
     },
     "execution_count": 108,
     "metadata": {},
     "output_type": "execute_result"
    }
   ],
   "source": [
    "## check variable description \n",
    "data.describe()"
   ]
  },
  {
   "cell_type": "code",
   "execution_count": 110,
   "id": "4f506e45-cda6-4bf0-ab1d-0a1754229063",
   "metadata": {},
   "outputs": [
    {
     "data": {
      "image/png": "[encoded data removed]",
      "text/plain": [
       "<Figure size 1000x1000 with 1 Axes>"
      ]
     },
     "metadata": {},
     "output_type": "display_data"
    }
   ],
   "source": [
    "## check variable correlation \n",
    "corr_table = data.corr().sort_values(\"Churn\", ascending=False)\n",
    "plt.figure(figsize=(10,10))\n",
    "ax = sns.heatmap(corr_table, cmap=\"vlag\", annot=True, fmt='.2f', square=True, cbar=False)"
   ]
  },
  {
   "cell_type": "markdown",
   "id": "084047c6-63c6-4a11-90a8-9426add8e3f1",
   "metadata": {},
   "source": [
    "## Practice 1\n",
    "- How the Y variable (\"Churn\") was distributed? \n",
    "- What's that mean for our prediction?"
   ]
  },
  {
   "cell_type": "code",
   "execution_count": 113,
   "id": "d8b5d921-0fe0-4fe0-b043-98f1104a20f5",
   "metadata": {},
   "outputs": [
    {
     "name": "stdout",
     "output_type": "stream",
     "text": [
      "Churn\n",
      "0    0.842857\n",
      "1    0.157143\n",
      "Name: proportion, dtype: float64\n"
     ]
    },
    {
     "data": {
      "image/png": "[encoded data removed]",
      "text/plain": [
       "<Figure size 600x400 with 1 Axes>"
      ]
     },
     "metadata": {},
     "output_type": "display_data"
    }
   ],
   "source": [
    "import matplotlib.pyplot as plt\n",
    "import seaborn as sns\n",
    "\n",
    "# Check the distribution of the 'Churn' variable\n",
    "churn_distribution = data['Churn'].value_counts(normalize=True)\n",
    "\n",
    "# Print the distribution\n",
    "print(churn_distribution)\n",
    "\n",
    "# Plot the distribution\n",
    "plt.figure(figsize=(6, 4))\n",
    "sns.barplot(x=churn_distribution.index, y=churn_distribution.values, palette=\"viridis\")\n",
    "plt.title('Churn Distribution')\n",
    "plt.xlabel('Churn (0 = Non-Churn, 1 = Churn)')\n",
    "plt.ylabel('Proportion')\n",
    "plt.show()\n",
    "\n"
   ]
  },
  {
   "cell_type": "markdown",
   "id": "022e3899-8783-47f4-869f-b15cf5b57ca0",
   "metadata": {},
   "source": [
    "## The Y variable churn\n",
    "\n",
    "X-axis: Represents the Churn values (0 for non-churners, 1 for churners).\n",
    "Y-axis: Represents the proportion of each class (0 and 1).\n",
    "For example, if 85% of the customers didn't churn (Churn=0) and 15% churned (Churn=1), you would see a taller bar for Churn=0 and a shorter bar for Churn=1.\n",
    "\n",
    "## Implications for prediction:\n",
    "This is an imbalanced dataset because a large proportion of the data (84%) consists of non-churners. This means that if you were to build a machine learning model to predict churn, it may struggle to correctly identify churners due to this imbalance. The model might favor predicting \"Non-Churn\" more frequently just because there are more examples of it.\n",
    "\n",
    "To address this, we might:\n",
    "1. Resample the data: Either oversample the minority class (churners) or undersample the majority class (non-churners).\n",
    "2. Use algorithms: Consider using algorithms like Random Forest or XGBoost, which handle imbalance better.\n",
    "3. Use metrics like AUC-ROC or F1-score: Accuracy alone may not be a good evaluation metric due to the imbalance. These alternative metrics can provide better insights into how well the model handles both classes."
   ]
  },
  {
   "cell_type": "code",
   "execution_count": 116,
   "id": "799e5bc2-5b5c-4fc3-bb29-9734a979b71c",
   "metadata": {},
   "outputs": [
    {
     "name": "stdout",
     "output_type": "stream",
     "text": [
      "The mean churn rate is: 0.15714285714285714\n"
     ]
    }
   ],
   "source": [
    "# Calculate the mean of the Churn variable\n",
    "churn_mean = data['Churn'].mean()\n",
    "print(f\"The mean churn rate is: {churn_mean}\")"
   ]
  },
  {
   "cell_type": "markdown",
   "id": "31570c0f-e456-4a74-b6a4-322a328b4434",
   "metadata": {},
   "source": [
    "### The Mean Churn Rate\n",
    "\n",
    "The mean churn rate can also serve as a baseline: any model you build should ideally perform better than just predicting \"no churn\" \n",
    "for every customer (which would get you an accuracy equal to 1 - churn_mean).\n",
    "\n"
   ]
  },
  {
   "cell_type": "code",
   "execution_count": 119,
   "id": "cb78acf5-c6a2-42b4-bb82-f16b3a6d4c51",
   "metadata": {},
   "outputs": [
    {
     "data": {
      "text/plain": [
       "Index(['Call  Failure', 'Complains', 'Subscription  Length', 'Charge  Amount',\n",
       "       'Seconds of Use', 'Frequency of use', 'Frequency of SMS',\n",
       "       'Distinct Called Numbers', 'Age Group', 'Tariff Plan', 'Status',\n",
       "       'Customer Value', 'Churn'],\n",
       "      dtype='object')"
      ]
     },
     "execution_count": 119,
     "metadata": {},
     "output_type": "execute_result"
    }
   ],
   "source": [
    "data.columns"
   ]
  },
  {
   "cell_type": "code",
   "execution_count": 121,
   "id": "d4460b5a-168a-41a7-8e5b-5accc5217e3f",
   "metadata": {},
   "outputs": [],
   "source": [
    "## let's randomly select 200 observations as next year's customer data for later use (to demostrate how we may use the predictive model)\n",
    "\n",
    "next_year_index = np.random.choice(data.index, size=200, replace=False)   # randomly sample 200 obs from index without replacement \n",
    "next_year = data.loc[next_year_index]"
   ]
  },
  {
   "cell_type": "code",
   "execution_count": 123,
   "id": "41908533-1067-4314-8cac-7e8ac73e4a2f",
   "metadata": {},
   "outputs": [],
   "source": [
    "## the data used for prediction \n",
    "\n",
    "current_year_index = np.delete(data.index.values, next_year_index)\n",
    "data2 = data.loc[current_year_index]"
   ]
  },
  {
   "cell_type": "code",
   "execution_count": 125,
   "id": "612e1c49-18d2-4bb6-bf74-2585d8901bc0",
   "metadata": {},
   "outputs": [
    {
     "data": {
      "text/plain": [
       "(3150, 2950, 200)"
      ]
     },
     "execution_count": 125,
     "metadata": {},
     "output_type": "execute_result"
    }
   ],
   "source": [
    "len(data), len(data2), len(next_year)"
   ]
  },
  {
   "cell_type": "markdown",
   "id": "d63f4891-0ce3-45ea-9687-21512fb8b762",
   "metadata": {},
   "source": [
    "## Data Prepare "
   ]
  },
  {
   "cell_type": "code",
   "execution_count": 128,
   "id": "e9627904-e51e-4328-9f28-ab091a8b39e8",
   "metadata": {},
   "outputs": [],
   "source": [
    "features = ['Call  Failure', 'Complains', 'Subscription  Length', 'Charge  Amount',\n",
    "            'Seconds of Use', 'Frequency of use', 'Frequency of SMS',\n",
    "            'Distinct Called Numbers', 'Age Group', 'Tariff Plan', 'Status', 'Customer Value']   # features / independent variables \n",
    "target = ['Churn']     # target / dependent variable \n",
    "\n",
    "# extract corresponding columns \n",
    "X = data2[features].values   \n",
    "Y = data2[target].values.ravel()"
   ]
  },
  {
   "cell_type": "code",
   "execution_count": 130,
   "id": "bce1f71e-e82d-4de7-a050-a6b3f9cfabab",
   "metadata": {},
   "outputs": [],
   "source": [
    "from sklearn.preprocessing import StandardScaler\n",
    "X = StandardScaler().fit_transform(X)"
   ]
  },
  {
   "cell_type": "markdown",
   "id": "1688445f-2fe1-434a-a6e0-c8b95f88bd40",
   "metadata": {},
   "source": [
    "- We could use the `train_test_split` (code as follow) process to properly evaluate our model, but the model's performance may vary based on how the dataset was \"randomly\" splited. So, here, we will use the `K-folder cross validation process` instead.  \n",
    "\n",
    "```python\n",
    "from sklearn.model_selection import train_test_split\n",
    "X_train, X_test, Y_train, Y_test = train_test_split(X, Y, test_size=0.2)\n",
    "```"
   ]
  },
  {
   "cell_type": "markdown",
   "id": "0c5fb6ef-982c-47d7-9ae3-b17564de91d3",
   "metadata": {},
   "source": [
    "## Make Predictions"
   ]
  },
  {
   "cell_type": "markdown",
   "id": "b915c178-113f-4f9b-8776-2b6892226a70",
   "metadata": {},
   "source": [
    "### KNN"
   ]
  },
  {
   "cell_type": "code",
   "execution_count": 135,
   "id": "1dfe5233-c50a-4660-9a33-b7ac43b3e87c",
   "metadata": {},
   "outputs": [
    {
     "name": "stdout",
     "output_type": "stream",
     "text": [
      "Average Fitting Time: 0.0007784843444824218\n",
      "Average Accuracy: 0.9477966101694915\n"
     ]
    }
   ],
   "source": [
    "from sklearn.model_selection import cross_validate     # import cross_validation function from sklearn\n",
    "from sklearn.neighbors import KNeighborsClassifier    # import KNN classifer \n",
    "\n",
    "knn = KNeighborsClassifier()\n",
    "\n",
    "## fit with 5 folder cross validation \n",
    "\n",
    "scores = cross_validate(estimator=knn, X=X, y=Y, cv=5, scoring=\"accuracy\")\n",
    "\n",
    "print(\"Average Fitting Time:\", scores['fit_time'].mean())\n",
    "print(\"Average Accuracy:\", scores['test_score'].mean())"
   ]
  },
  {
   "cell_type": "markdown",
   "id": "d6cc439a-0239-443f-8e7c-0e344564065b",
   "metadata": {},
   "source": [
    "### Logistic Regression "
   ]
  },
  {
   "cell_type": "code",
   "execution_count": 138,
   "id": "134767f9-5e85-46e5-a2e4-d3579379bc82",
   "metadata": {},
   "outputs": [
    {
     "name": "stdout",
     "output_type": "stream",
     "text": [
      "Average Fitting Time: 0.06218042373657227\n",
      "Average Accuracy: 0.8908474576271186\n"
     ]
    }
   ],
   "source": [
    "from sklearn.linear_model import LogisticRegression\n",
    "\n",
    "lr = LogisticRegression()\n",
    "\n",
    "scores = cross_validate(estimator=lr, X=X, y=Y, cv=5, scoring=\"accuracy\")\n",
    "\n",
    "print(\"Average Fitting Time:\", scores['fit_time'].mean())\n",
    "print(\"Average Accuracy:\", scores['test_score'].mean())"
   ]
  },
  {
   "cell_type": "markdown",
   "id": "588b6187-5073-486a-8736-7cb12e46e0be",
   "metadata": {},
   "source": [
    "### SVM "
   ]
  },
  {
   "cell_type": "code",
   "execution_count": 141,
   "id": "58076741-7cd5-4c2f-8383-6a7c6acb0813",
   "metadata": {},
   "outputs": [
    {
     "name": "stdout",
     "output_type": "stream",
     "text": [
      "Average Fitting Time: 0.02375617027282715\n",
      "Average Accuracy: 0.9264406779661016\n"
     ]
    }
   ],
   "source": [
    "from sklearn.svm import SVC\n",
    "\n",
    "svm = SVC()\n",
    "\n",
    "scores = cross_validate(estimator=svm, X=X, y=Y, cv=5, scoring=\"accuracy\")\n",
    "\n",
    "print(\"Average Fitting Time:\", scores['fit_time'].mean())\n",
    "print(\"Average Accuracy:\", scores['test_score'].mean())"
   ]
  },
  {
   "cell_type": "markdown",
   "id": "aab6eb49",
   "metadata": {},
   "source": [
    "### Naive Bayes "
   ]
  },
  {
   "cell_type": "code",
   "execution_count": 144,
   "id": "64b9e0cb",
   "metadata": {},
   "outputs": [
    {
     "name": "stdout",
     "output_type": "stream",
     "text": [
      "Average Fitting Time: 0.0006251335144042969\n",
      "Average Accuracy: 0.7261016949152543\n"
     ]
    }
   ],
   "source": [
    "from sklearn.naive_bayes import GaussianNB\n",
    "\n",
    "nb = GaussianNB()\n",
    "\n",
    "scores = cross_validate(estimator=nb, X=X, y=Y, cv=5, scoring=\"accuracy\")\n",
    "\n",
    "print(\"Average Fitting Time:\", scores['fit_time'].mean())\n",
    "print(\"Average Accuracy:\", scores['test_score'].mean())"
   ]
  },
  {
   "cell_type": "markdown",
   "id": "730fea53-e7ec-4457-91ab-fffe13a2b536",
   "metadata": {},
   "source": [
    "## Practice 2: \n",
    "- Fit a Decision Tree Classifier and a Random Forest Classifier with the current data using cross validation. "
   ]
  },
  {
   "cell_type": "markdown",
   "id": "f7a9c6de",
   "metadata": {},
   "source": [
    "### Decision Tree"
   ]
  },
  {
   "cell_type": "code",
   "execution_count": 148,
   "id": "79eb7093-6488-4439-9010-281fa689eb46",
   "metadata": {
    "scrolled": true
   },
   "outputs": [
    {
     "name": "stdout",
     "output_type": "stream",
     "text": [
      "Decision Tree - Average Fitting Time: 0.0070096015930175785\n",
      "Decision Tree - Average Accuracy: 0.936949152542373\n"
     ]
    }
   ],
   "source": [
    "from sklearn.model_selection import cross_validate\n",
    "from sklearn.tree import DecisionTreeClassifier\n",
    "\n",
    "## your code here \n",
    "tree = DecisionTreeClassifier()\n",
    "tree_scores = cross_validate(estimator=tree, X=X, y=Y, cv=5, scoring=\"accuracy\")\n",
    "print(\"Decision Tree - Average Fitting Time:\", tree_scores['fit_time'].mean())\n",
    "print(\"Decision Tree - Average Accuracy:\", tree_scores['test_score'].mean())"
   ]
  },
  {
   "cell_type": "markdown",
   "id": "150fddd7-2e7c-44f1-afb4-933f21ac195d",
   "metadata": {},
   "source": [
    "# Decision Tree\n",
    "The tree starts with a root node and splits the data based on the most informative feature (the one that best separates churners from non-churners).\n",
    "It continues splitting the data at each level based on other features until it reaches a leaf node where it makes a final prediction (churn or no churn).\n"
   ]
  },
  {
   "cell_type": "markdown",
   "id": "65c5f550-2b7b-4959-ab6c-b63d330d87e4",
   "metadata": {},
   "source": [
    "### Random Forest"
   ]
  },
  {
   "cell_type": "code",
   "execution_count": 152,
   "id": "44985bcb-4bdd-45d6-bfa6-0d4860220b92",
   "metadata": {},
   "outputs": [
    {
     "name": "stdout",
     "output_type": "stream",
     "text": [
      "Random Forest - Average Fitting Time: 0.1397693157196045\n",
      "Random Forest - Average Accuracy: 0.9532203389830508\n"
     ]
    }
   ],
   "source": [
    "from sklearn.ensemble import RandomForestClassifier\n",
    "\n",
    "## your code here\n",
    "\n",
    "# Random Forest\n",
    "rf = RandomForestClassifier()\n",
    "rf_scores = cross_validate(estimator=rf, X=X, y=Y, cv=5, scoring=\"accuracy\")\n",
    "print(\"Random Forest - Average Fitting Time:\", rf_scores['fit_time'].mean())\n",
    "print(\"Random Forest - Average Accuracy:\", rf_scores['test_score'].mean())\n"
   ]
  },
  {
   "cell_type": "markdown",
   "id": "25d857e1-8cf9-4198-8ac4-5f09187b04f3",
   "metadata": {},
   "source": [
    "# Random Forest Classifier\n",
    "Each tree votes on the class (churn or non-churn), and the majority vote becomes the final prediction.\n",
    "Decision Tree Classifier: Simple, interpretable, but prone to overfitting.\n",
    "Random Forest Classifier: More complex, less prone to overfitting, generally more accurate because it combines many decision trees.\n",
    "Cross-validation: Used to ensure the model performs well on different subsets of the data.\n",
    "\n"
   ]
  },
  {
   "cell_type": "markdown",
   "id": "a7a38b00",
   "metadata": {},
   "source": [
    "### Gradient Boost Classifier "
   ]
  },
  {
   "cell_type": "code",
   "execution_count": 156,
   "id": "71c80ffb",
   "metadata": {},
   "outputs": [
    {
     "name": "stdout",
     "output_type": "stream",
     "text": [
      "Average Fitting Time: 0.26334662437438966\n",
      "Average Accuracy: 0.944406779661017\n"
     ]
    }
   ],
   "source": [
    "from sklearn.ensemble import GradientBoostingClassifier\n",
    "\n",
    "gb = GradientBoostingClassifier()\n",
    "\n",
    "scores = cross_validate(estimator=gb, X=X, y=Y, cv=5, scoring=\"accuracy\")\n",
    "\n",
    "print(\"Average Fitting Time:\", scores['fit_time'].mean())\n",
    "print(\"Average Accuracy:\", scores['test_score'].mean())"
   ]
  },
  {
   "cell_type": "markdown",
   "id": "fffbebaf-6d56-4723-852e-26b276acb130",
   "metadata": {},
   "source": [
    "## Model Selection "
   ]
  },
  {
   "cell_type": "markdown",
   "id": "d953c2cf-7ff1-4505-89da-3c1dc3e7ed94",
   "metadata": {},
   "source": [
    "We can write a loop to search for the best model for the problem. "
   ]
  },
  {
   "cell_type": "code",
   "execution_count": 160,
   "id": "ef3964d7-78c8-4b0d-9e8b-b9df28ad42d6",
   "metadata": {},
   "outputs": [],
   "source": [
    "## candidate models \n",
    "knn = KNeighborsClassifier()\n",
    "lr = LogisticRegression()\n",
    "svm = SVC()\n",
    "nb = GaussianNB()\n",
    "tree = DecisionTreeClassifier()\n",
    "rf = RandomForestClassifier()\n",
    "gb = GradientBoostingClassifier()\n",
    "\n",
    "models = {\"KNN\": knn, \"LogisticRegression\": lr, \"SVM\": svm, \n",
    "          \"Naive Bayes\": nb, \"DecisionTree\": tree, \"RandomForest\": rf, \"GradientBoost\":gb}\n",
    "results = []\n",
    "\n",
    "for model_name, model in models.items():\n",
    "    default = {\"Model\":model_name, \"Fitting Time\": np.nan, \"Accuracy\": np.nan}\n",
    "    scores = cross_validate(estimator=model, X=X, y=Y, cv=5, scoring=\"accuracy\")\n",
    "    default['Fitting Time'] = scores['fit_time'].mean()\n",
    "    default['Accuracy'] = scores['test_score'].mean()\n",
    "    results.append(default)"
   ]
  },
  {
   "cell_type": "code",
   "execution_count": 161,
   "id": "5bfea81a-1b63-4220-9eb9-13c2da274962",
   "metadata": {},
   "outputs": [
    {
     "data": {
      "text/html": [
       "<div>\n",
       "<style scoped>\n",
       "    .dataframe tbody tr th:only-of-type {\n",
       "        vertical-align: middle;\n",
       "    }\n",
       "\n",
       "    .dataframe tbody tr th {\n",
       "        vertical-align: top;\n",
       "    }\n",
       "\n",
       "    .dataframe thead th {\n",
       "        text-align: right;\n",
       "    }\n",
       "</style>\n",
       "<table border=\"1\" class=\"dataframe\">\n",
       "  <thead>\n",
       "    <tr style=\"text-align: right;\">\n",
       "      <th></th>\n",
       "      <th>Model</th>\n",
       "      <th>Fitting Time</th>\n",
       "      <th>Accuracy</th>\n",
       "    </tr>\n",
       "  </thead>\n",
       "  <tbody>\n",
       "    <tr>\n",
       "      <th>5</th>\n",
       "      <td>RandomForest</td>\n",
       "      <td>0.139022</td>\n",
       "      <td>0.952542</td>\n",
       "    </tr>\n",
       "    <tr>\n",
       "      <th>0</th>\n",
       "      <td>KNN</td>\n",
       "      <td>0.000729</td>\n",
       "      <td>0.947797</td>\n",
       "    </tr>\n",
       "    <tr>\n",
       "      <th>6</th>\n",
       "      <td>GradientBoost</td>\n",
       "      <td>0.261379</td>\n",
       "      <td>0.944407</td>\n",
       "    </tr>\n",
       "    <tr>\n",
       "      <th>4</th>\n",
       "      <td>DecisionTree</td>\n",
       "      <td>0.007590</td>\n",
       "      <td>0.937627</td>\n",
       "    </tr>\n",
       "    <tr>\n",
       "      <th>2</th>\n",
       "      <td>SVM</td>\n",
       "      <td>0.034118</td>\n",
       "      <td>0.926441</td>\n",
       "    </tr>\n",
       "    <tr>\n",
       "      <th>1</th>\n",
       "      <td>LogisticRegression</td>\n",
       "      <td>0.080371</td>\n",
       "      <td>0.890847</td>\n",
       "    </tr>\n",
       "    <tr>\n",
       "      <th>3</th>\n",
       "      <td>Naive Bayes</td>\n",
       "      <td>0.000437</td>\n",
       "      <td>0.726102</td>\n",
       "    </tr>\n",
       "  </tbody>\n",
       "</table>\n",
       "</div>"
      ],
      "text/plain": [
       "                Model  Fitting Time  Accuracy\n",
       "5        RandomForest      0.139022  0.952542\n",
       "0                 KNN      0.000729  0.947797\n",
       "6       GradientBoost      0.261379  0.944407\n",
       "4        DecisionTree      0.007590  0.937627\n",
       "2                 SVM      0.034118  0.926441\n",
       "1  LogisticRegression      0.080371  0.890847\n",
       "3         Naive Bayes      0.000437  0.726102"
      ]
     },
     "execution_count": 161,
     "metadata": {},
     "output_type": "execute_result"
    }
   ],
   "source": [
    "results = pd.DataFrame(results)\n",
    "results.sort_values(\"Accuracy\", ascending=False)"
   ]
  },
  {
   "cell_type": "code",
   "execution_count": 162,
   "id": "aa8e5fd0-1b05-48ac-93a9-2cff9cda7362",
   "metadata": {
    "scrolled": true
   },
   "outputs": [
    {
     "data": {
      "image/png": "[encoded data removed]",
      "text/plain": [
       "<Figure size 640x480 with 1 Axes>"
      ]
     },
     "metadata": {},
     "output_type": "display_data"
    }
   ],
   "source": [
    "### visualize the prediction \n",
    "\n",
    "ax = sns.scatterplot(x=\"Fitting Time\", y=\"Accuracy\", data=results)\n",
    "for x, y, model_name in results[['Fitting Time', 'Accuracy', 'Model']].values:\n",
    "    ax.text(x+.005, y, model_name)"
   ]
  },
  {
   "cell_type": "markdown",
   "id": "ce39ec80-2637-4971-a37c-247e5f4c72c0",
   "metadata": {},
   "source": [
    "As we can see, the best model is the Random Forest model. We can either choose to\n",
    "1. fine tune the best model to get the best prediction result. \n",
    "2. use a set of best model to generate an ensamble model for prediction. "
   ]
  },
  {
   "cell_type": "markdown",
   "id": "0eb1e30e-27ee-4d79-8eea-ac9252fdee26",
   "metadata": {},
   "source": [
    "### Next Step 1: Fine Tune the Best Model "
   ]
  },
  {
   "cell_type": "code",
   "execution_count": null,
   "id": "7d14e5be-621a-4e33-a1fe-a0bd64af117c",
   "metadata": {},
   "outputs": [],
   "source": [
    "from sklearn.model_selection import GridSearchCV    ## use cross validation to search for best model hyper-parameters \n",
    "\n",
    "# Define model\n",
    "rf = RandomForestClassifier()\n",
    "\n",
    "# Define parameter grid\n",
    "param_grid = {\n",
    "    'n_estimators': [100, 200, 500],\n",
    "    'max_depth': [None, 10, 15],\n",
    "    'criterion': ['gini', 'entropy'],\n",
    "}"
   ]
  },
  {
   "cell_type": "code",
   "execution_count": null,
   "id": "9dec0af2-4d36-4faa-bf95-969f5e810fb1",
   "metadata": {},
   "outputs": [],
   "source": [
    "# Perform grid search\n",
    "grid_search = GridSearchCV(rf, param_grid=param_grid, cv=5, n_jobs=-1)\n",
    "grid_search.fit(X, Y)\n",
    "\n",
    "# Print best parameters and score\n",
    "print(\"Best parameters: \", grid_search.best_params_)\n",
    "print(\"Best score: \", grid_search.best_score_)"
   ]
  },
  {
   "cell_type": "markdown",
   "id": "ff79bd74-12c6-4e20-a978-2cbc4b2a7f9c",
   "metadata": {},
   "source": [
    "- As we can see, the fine tuned RF model is 0.004 higher in accuracy than the RF model with default parameters. "
   ]
  },
  {
   "cell_type": "markdown",
   "id": "fc4bdc04-0659-4786-a564-cb8c1d84d009",
   "metadata": {},
   "source": [
    "### Next Step 2: General Ensembled Classifier"
   ]
  },
  {
   "cell_type": "code",
   "execution_count": null,
   "id": "bd87670b-4d6e-4d4a-b7ef-19bf3fc8b1d6",
   "metadata": {},
   "outputs": [],
   "source": [
    "from sklearn.ensemble import VotingClassifier\n",
    "\n",
    "rf = RandomForestClassifier()\n",
    "knn = KNeighborsClassifier()\n",
    "gb = GradientBoostingClassifier()\n",
    "tree = DecisionTreeClassifier()\n",
    "\n",
    "vc = VotingClassifier(estimators=[(\"RandomForest\", rf), \n",
    "                                  (\"KNN\", knn), \n",
    "                                  (\"GradientBoost\", gb), \n",
    "                                  (\"DecisionTree\", tree)], \n",
    "                                  voting=\"soft\", weights=[3,1,1,1])\n",
    "\n",
    "scores = cross_validate(estimator=vc, X=X, y=Y, cv=5, scoring=\"accuracy\")\n",
    "\n",
    "print(\"Average Fitting Time:\", scores['fit_time'].mean())\n",
    "print(\"Average Accuracy:\", scores['test_score'].mean())"
   ]
  },
  {
   "cell_type": "markdown",
   "id": "ba6fca61-5b6e-4277-b6b3-ef9e9092036a",
   "metadata": {},
   "source": [
    "- The generalized ensamble model is also 0.002 higher in accuracy than the RF model with default parameters. "
   ]
  },
  {
   "cell_type": "markdown",
   "id": "22cddd43-e0fc-46e6-bd2a-2befa58ab922",
   "metadata": {},
   "source": [
    "## Apply the Best Model to Improve Customer Retention"
   ]
  },
  {
   "cell_type": "markdown",
   "id": "739ac535-06ae-47f1-8975-e211967024ea",
   "metadata": {},
   "source": [
    "- Since the fine turned RF model yields the best performance, we will apply it to predict the churn for next year's customers. "
   ]
  },
  {
   "cell_type": "code",
   "execution_count": null,
   "id": "fabd70cb-489d-40f7-88c7-f9ddf961f6bb",
   "metadata": {},
   "outputs": [],
   "source": [
    "## Apply the same data preprocessing to the next year's data \n",
    "\n",
    "features = ['Call  Failure', 'Complains', 'Subscription  Length', 'Charge  Amount',\n",
    "            'Seconds of Use', 'Frequency of use', 'Frequency of SMS',\n",
    "            'Distinct Called Numbers', 'Age Group', 'Tariff Plan', 'Status', 'Customer Value']   # features / independent variables \n",
    "target = ['Churn']     # target / dependent variable \n",
    "\n",
    "# extract corresponding columns \n",
    "X2 = next_year[features].values   \n",
    "Y2 = next_year[target].values.ravel()\n",
    "\n",
    "## standardize features \n",
    "X2 = StandardScaler().fit_transform(X2)"
   ]
  },
  {
   "cell_type": "markdown",
   "id": "a6127150",
   "metadata": {},
   "source": [
    "## Practice 3: \n",
    "- Use the best fit Random Forest Classifier to predict churn of the next year's observations and save your prediction in a variable `y_pred`. "
   ]
  },
  {
   "cell_type": "code",
   "execution_count": 167,
   "id": "827efd86-41a4-4fe8-8d65-140086b1f696",
   "metadata": {},
   "outputs": [
    {
     "name": "stdout",
     "output_type": "stream",
     "text": [
      "      Call  Failure  Complains  Subscription  Length  Charge  Amount  \\\n",
      "177              10          1                    40               0   \n",
      "1927             10          1                    35               0   \n",
      "2877             12          0                    33               0   \n",
      "876              15          1                    36               0   \n",
      "2461             16          1                    43               0   \n",
      "2777             16          1                    38               0   \n",
      "2927             16          1                    43               0   \n",
      "2922             30          1                    40               0   \n",
      "126               6          0                    33               0   \n",
      "2527             12          0                    35               0   \n",
      "\n",
      "      Seconds of Use  Frequency of use  Frequency of SMS  \\\n",
      "177             2348                46                44   \n",
      "1927            2673                49                35   \n",
      "2877            2573                44                33   \n",
      "876             3700                52                17   \n",
      "2461            2723                68                26   \n",
      "2777            2763                51                50   \n",
      "2927            2573                56                49   \n",
      "2922            1260                59                31   \n",
      "126             2930                38                 4   \n",
      "2527            2393                42                30   \n",
      "\n",
      "      Distinct Called Numbers  Age Group  Tariff Plan  Status  Customer Value  \\\n",
      "177                        35          3            1       2         271.760   \n",
      "1927                       29          3            1       2         248.880   \n",
      "2877                       32          3            1       2         236.680   \n",
      "876                        16          3            1       2         218.080   \n",
      "2461                       24          3            1       2         215.640   \n",
      "2777                       36          4            1       2         195.350   \n",
      "2927                       34          4            1       2         188.225   \n",
      "2922                       20          3            1       2         176.760   \n",
      "126                        14          2            1       2         151.560   \n",
      "2527                       28          4            1       2         135.875   \n",
      "\n",
      "      Churn  pred_churn  \n",
      "177       1           1  \n",
      "1927      1           1  \n",
      "2877      1           1  \n",
      "876       1           1  \n",
      "2461      0           1  \n",
      "2777      1           1  \n",
      "2927      1           1  \n",
      "2922      1           1  \n",
      "126       1           1  \n",
      "2527      1           1  \n"
     ]
    }
   ],
   "source": [
    "## your code here \n",
    "# Assuming next_year is the data for the upcoming year\n",
    "X_next_year = next_year[features].values\n",
    "X_next_year = StandardScaler().fit_transform(X_next_year)\n",
    "\n",
    "# Fit Random Forest on the full dataset\n",
    "rf.fit(X, Y)\n",
    "\n",
    "# Predict churn for next year's customers\n",
    "y_pred = rf.predict(X_next_year)\n",
    "\n",
    "# Add predictions to the dataset\n",
    "next_year['pred_churn'] = y_pred\n",
    "\n",
    "# Sort customers based on predicted churn and customer value (high-value customers prioritized)\n",
    "high_risk_customers = next_year[next_year['pred_churn'] == 1].sort_values(by='Customer Value', ascending=False)\n",
    "print(high_risk_customers.head(10))\n"
   ]
  },
  {
   "cell_type": "code",
   "execution_count": 169,
   "id": "98651b46-0e83-439e-948b-cda6bbd4d5f5",
   "metadata": {},
   "outputs": [
    {
     "data": {
      "text/plain": [
       "array([0, 0, 0, 0, 0, 0, 0, 0, 1, 0, 0, 1, 0, 1, 0, 0, 1, 0, 1, 0, 0, 0,\n",
       "       0, 0, 0, 0, 0, 0, 0, 0, 0, 0, 0, 0, 0, 0, 0, 0, 0, 0, 0, 0, 0, 1,\n",
       "       0, 0, 0, 0, 0, 0, 0, 1, 0, 0, 0, 0, 0, 0, 0, 0, 1, 0, 0, 0, 0, 0,\n",
       "       0, 0, 0, 1, 0, 0, 1, 0, 0, 0, 1, 0, 0, 0, 1, 0, 0, 0, 0, 0, 0, 0,\n",
       "       0, 0, 1, 0, 0, 0, 0, 0, 0, 0, 0, 0, 1, 0, 1, 0, 0, 0, 1, 0, 0, 0,\n",
       "       0, 0, 0, 0, 0, 0, 0, 0, 0, 0, 1, 0, 0, 1, 1, 0, 0, 0, 0, 0, 0, 0,\n",
       "       0, 0, 0, 0, 0, 0, 0, 0, 0, 0, 1, 0, 0, 0, 1, 0, 0, 0, 0, 0, 0, 1,\n",
       "       0, 0, 1, 0, 0, 0, 0, 0, 0, 0, 0, 0, 1, 0, 0, 0, 0, 0, 0, 0, 0, 0,\n",
       "       0, 0, 1, 0, 0, 0, 0, 0, 0, 1, 1, 0, 0, 0, 0, 0, 0, 1, 0, 0, 0, 0,\n",
       "       0, 0])"
      ]
     },
     "execution_count": 169,
     "metadata": {},
     "output_type": "execute_result"
    }
   ],
   "source": [
    "y_pred"
   ]
  },
  {
   "cell_type": "code",
   "execution_count": 171,
   "id": "40341ef9-9955-47b1-85e0-d2d645c17af3",
   "metadata": {},
   "outputs": [],
   "source": [
    "next_year['pred_churn'] = y_pred  # map the prediction back to the dataset "
   ]
  },
  {
   "cell_type": "code",
   "execution_count": 173,
   "id": "5c593ff6-b963-4bb3-aa7d-3226aad7dd3d",
   "metadata": {},
   "outputs": [
    {
     "data": {
      "text/html": [
       "<div>\n",
       "<style scoped>\n",
       "    .dataframe tbody tr th:only-of-type {\n",
       "        vertical-align: middle;\n",
       "    }\n",
       "\n",
       "    .dataframe tbody tr th {\n",
       "        vertical-align: top;\n",
       "    }\n",
       "\n",
       "    .dataframe thead th {\n",
       "        text-align: right;\n",
       "    }\n",
       "</style>\n",
       "<table border=\"1\" class=\"dataframe\">\n",
       "  <thead>\n",
       "    <tr style=\"text-align: right;\">\n",
       "      <th></th>\n",
       "      <th>Call  Failure</th>\n",
       "      <th>Complains</th>\n",
       "      <th>Subscription  Length</th>\n",
       "      <th>Charge  Amount</th>\n",
       "      <th>Seconds of Use</th>\n",
       "      <th>Frequency of use</th>\n",
       "      <th>Frequency of SMS</th>\n",
       "      <th>Distinct Called Numbers</th>\n",
       "      <th>Age Group</th>\n",
       "      <th>Tariff Plan</th>\n",
       "      <th>Status</th>\n",
       "      <th>Customer Value</th>\n",
       "      <th>Churn</th>\n",
       "      <th>pred_churn</th>\n",
       "    </tr>\n",
       "  </thead>\n",
       "  <tbody>\n",
       "    <tr>\n",
       "      <th>177</th>\n",
       "      <td>10</td>\n",
       "      <td>1</td>\n",
       "      <td>40</td>\n",
       "      <td>0</td>\n",
       "      <td>2348</td>\n",
       "      <td>46</td>\n",
       "      <td>44</td>\n",
       "      <td>35</td>\n",
       "      <td>3</td>\n",
       "      <td>1</td>\n",
       "      <td>2</td>\n",
       "      <td>271.760</td>\n",
       "      <td>1</td>\n",
       "      <td>1</td>\n",
       "    </tr>\n",
       "    <tr>\n",
       "      <th>1927</th>\n",
       "      <td>10</td>\n",
       "      <td>1</td>\n",
       "      <td>35</td>\n",
       "      <td>0</td>\n",
       "      <td>2673</td>\n",
       "      <td>49</td>\n",
       "      <td>35</td>\n",
       "      <td>29</td>\n",
       "      <td>3</td>\n",
       "      <td>1</td>\n",
       "      <td>2</td>\n",
       "      <td>248.880</td>\n",
       "      <td>1</td>\n",
       "      <td>1</td>\n",
       "    </tr>\n",
       "    <tr>\n",
       "      <th>2877</th>\n",
       "      <td>12</td>\n",
       "      <td>0</td>\n",
       "      <td>33</td>\n",
       "      <td>0</td>\n",
       "      <td>2573</td>\n",
       "      <td>44</td>\n",
       "      <td>33</td>\n",
       "      <td>32</td>\n",
       "      <td>3</td>\n",
       "      <td>1</td>\n",
       "      <td>2</td>\n",
       "      <td>236.680</td>\n",
       "      <td>1</td>\n",
       "      <td>1</td>\n",
       "    </tr>\n",
       "    <tr>\n",
       "      <th>876</th>\n",
       "      <td>15</td>\n",
       "      <td>1</td>\n",
       "      <td>36</td>\n",
       "      <td>0</td>\n",
       "      <td>3700</td>\n",
       "      <td>52</td>\n",
       "      <td>17</td>\n",
       "      <td>16</td>\n",
       "      <td>3</td>\n",
       "      <td>1</td>\n",
       "      <td>2</td>\n",
       "      <td>218.080</td>\n",
       "      <td>1</td>\n",
       "      <td>1</td>\n",
       "    </tr>\n",
       "    <tr>\n",
       "      <th>2461</th>\n",
       "      <td>16</td>\n",
       "      <td>1</td>\n",
       "      <td>43</td>\n",
       "      <td>0</td>\n",
       "      <td>2723</td>\n",
       "      <td>68</td>\n",
       "      <td>26</td>\n",
       "      <td>24</td>\n",
       "      <td>3</td>\n",
       "      <td>1</td>\n",
       "      <td>2</td>\n",
       "      <td>215.640</td>\n",
       "      <td>0</td>\n",
       "      <td>1</td>\n",
       "    </tr>\n",
       "    <tr>\n",
       "      <th>2777</th>\n",
       "      <td>16</td>\n",
       "      <td>1</td>\n",
       "      <td>38</td>\n",
       "      <td>0</td>\n",
       "      <td>2763</td>\n",
       "      <td>51</td>\n",
       "      <td>50</td>\n",
       "      <td>36</td>\n",
       "      <td>4</td>\n",
       "      <td>1</td>\n",
       "      <td>2</td>\n",
       "      <td>195.350</td>\n",
       "      <td>1</td>\n",
       "      <td>1</td>\n",
       "    </tr>\n",
       "    <tr>\n",
       "      <th>2927</th>\n",
       "      <td>16</td>\n",
       "      <td>1</td>\n",
       "      <td>43</td>\n",
       "      <td>0</td>\n",
       "      <td>2573</td>\n",
       "      <td>56</td>\n",
       "      <td>49</td>\n",
       "      <td>34</td>\n",
       "      <td>4</td>\n",
       "      <td>1</td>\n",
       "      <td>2</td>\n",
       "      <td>188.225</td>\n",
       "      <td>1</td>\n",
       "      <td>1</td>\n",
       "    </tr>\n",
       "    <tr>\n",
       "      <th>2922</th>\n",
       "      <td>30</td>\n",
       "      <td>1</td>\n",
       "      <td>40</td>\n",
       "      <td>0</td>\n",
       "      <td>1260</td>\n",
       "      <td>59</td>\n",
       "      <td>31</td>\n",
       "      <td>20</td>\n",
       "      <td>3</td>\n",
       "      <td>1</td>\n",
       "      <td>2</td>\n",
       "      <td>176.760</td>\n",
       "      <td>1</td>\n",
       "      <td>1</td>\n",
       "    </tr>\n",
       "    <tr>\n",
       "      <th>126</th>\n",
       "      <td>6</td>\n",
       "      <td>0</td>\n",
       "      <td>33</td>\n",
       "      <td>0</td>\n",
       "      <td>2930</td>\n",
       "      <td>38</td>\n",
       "      <td>4</td>\n",
       "      <td>14</td>\n",
       "      <td>2</td>\n",
       "      <td>1</td>\n",
       "      <td>2</td>\n",
       "      <td>151.560</td>\n",
       "      <td>1</td>\n",
       "      <td>1</td>\n",
       "    </tr>\n",
       "    <tr>\n",
       "      <th>2527</th>\n",
       "      <td>12</td>\n",
       "      <td>0</td>\n",
       "      <td>35</td>\n",
       "      <td>0</td>\n",
       "      <td>2393</td>\n",
       "      <td>42</td>\n",
       "      <td>30</td>\n",
       "      <td>28</td>\n",
       "      <td>4</td>\n",
       "      <td>1</td>\n",
       "      <td>2</td>\n",
       "      <td>135.875</td>\n",
       "      <td>1</td>\n",
       "      <td>1</td>\n",
       "    </tr>\n",
       "  </tbody>\n",
       "</table>\n",
       "</div>"
      ],
      "text/plain": [
       "      Call  Failure  Complains  Subscription  Length  Charge  Amount  \\\n",
       "177              10          1                    40               0   \n",
       "1927             10          1                    35               0   \n",
       "2877             12          0                    33               0   \n",
       "876              15          1                    36               0   \n",
       "2461             16          1                    43               0   \n",
       "2777             16          1                    38               0   \n",
       "2927             16          1                    43               0   \n",
       "2922             30          1                    40               0   \n",
       "126               6          0                    33               0   \n",
       "2527             12          0                    35               0   \n",
       "\n",
       "      Seconds of Use  Frequency of use  Frequency of SMS  \\\n",
       "177             2348                46                44   \n",
       "1927            2673                49                35   \n",
       "2877            2573                44                33   \n",
       "876             3700                52                17   \n",
       "2461            2723                68                26   \n",
       "2777            2763                51                50   \n",
       "2927            2573                56                49   \n",
       "2922            1260                59                31   \n",
       "126             2930                38                 4   \n",
       "2527            2393                42                30   \n",
       "\n",
       "      Distinct Called Numbers  Age Group  Tariff Plan  Status  Customer Value  \\\n",
       "177                        35          3            1       2         271.760   \n",
       "1927                       29          3            1       2         248.880   \n",
       "2877                       32          3            1       2         236.680   \n",
       "876                        16          3            1       2         218.080   \n",
       "2461                       24          3            1       2         215.640   \n",
       "2777                       36          4            1       2         195.350   \n",
       "2927                       34          4            1       2         188.225   \n",
       "2922                       20          3            1       2         176.760   \n",
       "126                        14          2            1       2         151.560   \n",
       "2527                       28          4            1       2         135.875   \n",
       "\n",
       "      Churn  pred_churn  \n",
       "177       1           1  \n",
       "1927      1           1  \n",
       "2877      1           1  \n",
       "876       1           1  \n",
       "2461      0           1  \n",
       "2777      1           1  \n",
       "2927      1           1  \n",
       "2922      1           1  \n",
       "126       1           1  \n",
       "2527      1           1  "
      ]
     },
     "execution_count": 173,
     "metadata": {},
     "output_type": "execute_result"
    }
   ],
   "source": [
    "## sort customer based on churn and their customer value \n",
    "mask = next_year['pred_churn'] == 1\n",
    "next_year[mask].sort_values([\"pred_churn\", \"Customer Value\"], ascending=False).head(10)"
   ]
  },
  {
   "cell_type": "markdown",
   "id": "8f6918bd-a238-46e9-8e1b-9f40563678bf",
   "metadata": {},
   "source": [
    "- Then, as data scientist, you can ask the customer service department to call these customers who are likely to leave to improve their retetion. \n",
    "- The call can take turn based on the customer value, in which high value customers get higher priority. "
   ]
  },
  {
   "cell_type": "markdown",
   "id": "2a419646-1a7a-4455-bf18-b08b6caf47ab",
   "metadata": {},
   "source": [
    "## Machine Learning For Explainatory Purposes "
   ]
  },
  {
   "cell_type": "markdown",
   "id": "093e9cd5-eae6-4b84-a22a-1326c84f2d9c",
   "metadata": {},
   "source": [
    "## Solution 1: Use Linear/Logistic Regressions "
   ]
  },
  {
   "cell_type": "code",
   "execution_count": 175,
   "id": "78783845-b0f8-4a29-b99c-9a282dbcc52e",
   "metadata": {},
   "outputs": [],
   "source": [
    "import statsmodels.api as sm "
   ]
  },
  {
   "cell_type": "code",
   "execution_count": 177,
   "id": "c35eb844-1aa3-4da6-916c-cf0e12862365",
   "metadata": {},
   "outputs": [],
   "source": [
    "features = ['Call  Failure', 'Complains', 'Subscription  Length', 'Charge  Amount',\n",
    "            'Seconds of Use', 'Frequency of use', 'Frequency of SMS',\n",
    "            'Distinct Called Numbers', 'Age Group', 'Tariff Plan', 'Status', 'Customer Value']   # features / independent variables \n",
    "target = ['Churn']     # target / dependent variable \n",
    "\n",
    "# extract corresponding columns \n",
    "X3 = data[features]  \n",
    "Y3 = data[target]\n",
    "\n",
    "## standardize features \n",
    "X3 = pd.DataFrame(StandardScaler().fit_transform(X3), columns=X3.columns)   ## we need to standardize all the features to make the coefficient compariable \n",
    "X3['constant'] = 1"
   ]
  },
  {
   "cell_type": "code",
   "execution_count": 179,
   "id": "85f34624-7712-42ee-971d-e479ee91c52b",
   "metadata": {},
   "outputs": [
    {
     "name": "stdout",
     "output_type": "stream",
     "text": [
      "Optimization terminated successfully.\n",
      "         Current function value: 0.219861\n",
      "         Iterations 10\n"
     ]
    },
    {
     "data": {
      "text/html": [
       "<table class=\"simpletable\">\n",
       "<caption>Logit Regression Results</caption>\n",
       "<tr>\n",
       "  <th>Dep. Variable:</th>         <td>Churn</td>      <th>  No. Observations:  </th>   <td>  3150</td>  \n",
       "</tr>\n",
       "<tr>\n",
       "  <th>Model:</th>                 <td>Logit</td>      <th>  Df Residuals:      </th>   <td>  3137</td>  \n",
       "</tr>\n",
       "<tr>\n",
       "  <th>Method:</th>                 <td>MLE</td>       <th>  Df Model:          </th>   <td>    12</td>  \n",
       "</tr>\n",
       "<tr>\n",
       "  <th>Date:</th>            <td>Sun, 06 Oct 2024</td> <th>  Pseudo R-squ.:     </th>   <td>0.4945</td>  \n",
       "</tr>\n",
       "<tr>\n",
       "  <th>Time:</th>                <td>18:41:53</td>     <th>  Log-Likelihood:    </th>  <td> -692.56</td> \n",
       "</tr>\n",
       "<tr>\n",
       "  <th>converged:</th>             <td>True</td>       <th>  LL-Null:           </th>  <td> -1369.9</td> \n",
       "</tr>\n",
       "<tr>\n",
       "  <th>Covariance Type:</th>     <td>nonrobust</td>    <th>  LLR p-value:       </th> <td>7.893e-283</td>\n",
       "</tr>\n",
       "</table>\n",
       "<table class=\"simpletable\">\n",
       "<tr>\n",
       "             <td></td>                <th>coef</th>     <th>std err</th>      <th>z</th>      <th>P>|z|</th>  <th>[0.025</th>    <th>0.975]</th>  \n",
       "</tr>\n",
       "<tr>\n",
       "  <th>Call  Failure</th>           <td>    0.9540</td> <td>    0.129</td> <td>    7.394</td> <td> 0.000</td> <td>    0.701</td> <td>    1.207</td>\n",
       "</tr>\n",
       "<tr>\n",
       "  <th>Complains</th>               <td>    1.0745</td> <td>    0.075</td> <td>   14.320</td> <td> 0.000</td> <td>    0.927</td> <td>    1.222</td>\n",
       "</tr>\n",
       "<tr>\n",
       "  <th>Subscription  Length</th>    <td>   -0.2567</td> <td>    0.082</td> <td>   -3.149</td> <td> 0.002</td> <td>   -0.416</td> <td>   -0.097</td>\n",
       "</tr>\n",
       "<tr>\n",
       "  <th>Charge  Amount</th>          <td>   -0.6318</td> <td>    0.183</td> <td>   -3.448</td> <td> 0.001</td> <td>   -0.991</td> <td>   -0.273</td>\n",
       "</tr>\n",
       "<tr>\n",
       "  <th>Seconds of Use</th>          <td>    0.4704</td> <td>    0.595</td> <td>    0.790</td> <td> 0.429</td> <td>   -0.696</td> <td>    1.637</td>\n",
       "</tr>\n",
       "<tr>\n",
       "  <th>Frequency of use</th>        <td>   -3.1744</td> <td>    0.487</td> <td>   -6.518</td> <td> 0.000</td> <td>   -4.129</td> <td>   -2.220</td>\n",
       "</tr>\n",
       "<tr>\n",
       "  <th>Frequency of SMS</th>        <td>   -5.2513</td> <td>    1.365</td> <td>   -3.848</td> <td> 0.000</td> <td>   -7.926</td> <td>   -2.577</td>\n",
       "</tr>\n",
       "<tr>\n",
       "  <th>Distinct Called Numbers</th> <td>   -0.1907</td> <td>    0.166</td> <td>   -1.150</td> <td> 0.250</td> <td>   -0.516</td> <td>    0.134</td>\n",
       "</tr>\n",
       "<tr>\n",
       "  <th>Age Group</th>               <td>    0.1067</td> <td>    0.099</td> <td>    1.077</td> <td> 0.281</td> <td>   -0.087</td> <td>    0.301</td>\n",
       "</tr>\n",
       "<tr>\n",
       "  <th>Tariff Plan</th>             <td>    0.0643</td> <td>    0.169</td> <td>    0.381</td> <td> 0.703</td> <td>   -0.266</td> <td>    0.395</td>\n",
       "</tr>\n",
       "<tr>\n",
       "  <th>Status</th>                  <td>    0.6085</td> <td>    0.087</td> <td>    7.013</td> <td> 0.000</td> <td>    0.438</td> <td>    0.779</td>\n",
       "</tr>\n",
       "<tr>\n",
       "  <th>Customer Value</th>          <td>    4.2351</td> <td>    1.449</td> <td>    2.922</td> <td> 0.003</td> <td>    1.395</td> <td>    7.076</td>\n",
       "</tr>\n",
       "<tr>\n",
       "  <th>constant</th>                <td>   -3.5025</td> <td>    0.186</td> <td>  -18.803</td> <td> 0.000</td> <td>   -3.868</td> <td>   -3.137</td>\n",
       "</tr>\n",
       "</table>"
      ],
      "text/latex": [
       "\\begin{center}\n",
       "\\begin{tabular}{lclc}\n",
       "\\toprule\n",
       "\\textbf{Dep. Variable:}          &      Churn       & \\textbf{  No. Observations:  } &     3150    \\\\\n",
       "\\textbf{Model:}                  &      Logit       & \\textbf{  Df Residuals:      } &     3137    \\\\\n",
       "\\textbf{Method:}                 &       MLE        & \\textbf{  Df Model:          } &       12    \\\\\n",
       "\\textbf{Date:}                   & Sun, 06 Oct 2024 & \\textbf{  Pseudo R-squ.:     } &   0.4945    \\\\\n",
       "\\textbf{Time:}                   &     18:41:53     & \\textbf{  Log-Likelihood:    } &   -692.56   \\\\\n",
       "\\textbf{converged:}              &       True       & \\textbf{  LL-Null:           } &   -1369.9   \\\\\n",
       "\\textbf{Covariance Type:}        &    nonrobust     & \\textbf{  LLR p-value:       } & 7.893e-283  \\\\\n",
       "\\bottomrule\n",
       "\\end{tabular}\n",
       "\\begin{tabular}{lcccccc}\n",
       "                                 & \\textbf{coef} & \\textbf{std err} & \\textbf{z} & \\textbf{P$> |$z$|$} & \\textbf{[0.025} & \\textbf{0.975]}  \\\\\n",
       "\\midrule\n",
       "\\textbf{Call  Failure}           &       0.9540  &        0.129     &     7.394  &         0.000        &        0.701    &        1.207     \\\\\n",
       "\\textbf{Complains}               &       1.0745  &        0.075     &    14.320  &         0.000        &        0.927    &        1.222     \\\\\n",
       "\\textbf{Subscription  Length}    &      -0.2567  &        0.082     &    -3.149  &         0.002        &       -0.416    &       -0.097     \\\\\n",
       "\\textbf{Charge  Amount}          &      -0.6318  &        0.183     &    -3.448  &         0.001        &       -0.991    &       -0.273     \\\\\n",
       "\\textbf{Seconds of Use}          &       0.4704  &        0.595     &     0.790  &         0.429        &       -0.696    &        1.637     \\\\\n",
       "\\textbf{Frequency of use}        &      -3.1744  &        0.487     &    -6.518  &         0.000        &       -4.129    &       -2.220     \\\\\n",
       "\\textbf{Frequency of SMS}        &      -5.2513  &        1.365     &    -3.848  &         0.000        &       -7.926    &       -2.577     \\\\\n",
       "\\textbf{Distinct Called Numbers} &      -0.1907  &        0.166     &    -1.150  &         0.250        &       -0.516    &        0.134     \\\\\n",
       "\\textbf{Age Group}               &       0.1067  &        0.099     &     1.077  &         0.281        &       -0.087    &        0.301     \\\\\n",
       "\\textbf{Tariff Plan}             &       0.0643  &        0.169     &     0.381  &         0.703        &       -0.266    &        0.395     \\\\\n",
       "\\textbf{Status}                  &       0.6085  &        0.087     &     7.013  &         0.000        &        0.438    &        0.779     \\\\\n",
       "\\textbf{Customer Value}          &       4.2351  &        1.449     &     2.922  &         0.003        &        1.395    &        7.076     \\\\\n",
       "\\textbf{constant}                &      -3.5025  &        0.186     &   -18.803  &         0.000        &       -3.868    &       -3.137     \\\\\n",
       "\\bottomrule\n",
       "\\end{tabular}\n",
       "%\\caption{Logit Regression Results}\n",
       "\\end{center}"
      ],
      "text/plain": [
       "<class 'statsmodels.iolib.summary.Summary'>\n",
       "\"\"\"\n",
       "                           Logit Regression Results                           \n",
       "==============================================================================\n",
       "Dep. Variable:                  Churn   No. Observations:                 3150\n",
       "Model:                          Logit   Df Residuals:                     3137\n",
       "Method:                           MLE   Df Model:                           12\n",
       "Date:                Sun, 06 Oct 2024   Pseudo R-squ.:                  0.4945\n",
       "Time:                        18:41:53   Log-Likelihood:                -692.56\n",
       "converged:                       True   LL-Null:                       -1369.9\n",
       "Covariance Type:            nonrobust   LLR p-value:                7.893e-283\n",
       "===========================================================================================\n",
       "                              coef    std err          z      P>|z|      [0.025      0.975]\n",
       "-------------------------------------------------------------------------------------------\n",
       "Call  Failure               0.9540      0.129      7.394      0.000       0.701       1.207\n",
       "Complains                   1.0745      0.075     14.320      0.000       0.927       1.222\n",
       "Subscription  Length       -0.2567      0.082     -3.149      0.002      -0.416      -0.097\n",
       "Charge  Amount             -0.6318      0.183     -3.448      0.001      -0.991      -0.273\n",
       "Seconds of Use              0.4704      0.595      0.790      0.429      -0.696       1.637\n",
       "Frequency of use           -3.1744      0.487     -6.518      0.000      -4.129      -2.220\n",
       "Frequency of SMS           -5.2513      1.365     -3.848      0.000      -7.926      -2.577\n",
       "Distinct Called Numbers    -0.1907      0.166     -1.150      0.250      -0.516       0.134\n",
       "Age Group                   0.1067      0.099      1.077      0.281      -0.087       0.301\n",
       "Tariff Plan                 0.0643      0.169      0.381      0.703      -0.266       0.395\n",
       "Status                      0.6085      0.087      7.013      0.000       0.438       0.779\n",
       "Customer Value              4.2351      1.449      2.922      0.003       1.395       7.076\n",
       "constant                   -3.5025      0.186    -18.803      0.000      -3.868      -3.137\n",
       "===========================================================================================\n",
       "\"\"\""
      ]
     },
     "execution_count": 179,
     "metadata": {},
     "output_type": "execute_result"
    }
   ],
   "source": [
    "logit_model = sm.Logit(Y3, X3)\n",
    "result = logit_model.fit()\n",
    "result.summary()"
   ]
  },
  {
   "cell_type": "markdown",
   "id": "bb2082b2-0747-4d91-8d78-8b0d01a2b8b4",
   "metadata": {},
   "source": [
    "## Use Permutation feature importance"
   ]
  },
  {
   "cell_type": "markdown",
   "id": "fa3705d2-2954-41f9-8cd8-5448ab2709fa",
   "metadata": {},
   "source": [
    "The `permutation feature importance` is defined to be the decrease in a model score when a single feature value is randomly shuffled. This procedure breaks the relationship between the feature and the target, thus the drop in the model score is indicative of how much the model depends on the feature."
   ]
  },
  {
   "cell_type": "code",
   "execution_count": 181,
   "id": "18e9ffdd-3541-4bb2-9a5c-b304433d47df",
   "metadata": {},
   "outputs": [],
   "source": [
    "from sklearn.inspection import permutation_importance\n",
    "\n",
    "rf = RandomForestClassifier(class_weight = 'balanced_subsample', \n",
    "                            criterion= 'entropy', \n",
    "                            max_depth= None, \n",
    "                            n_estimators = 500)\n",
    "rf.fit(X, Y)\n",
    "\n",
    "results = permutation_importance(rf, X, Y, n_repeats=10)"
   ]
  },
  {
   "cell_type": "code",
   "execution_count": 182,
   "id": "6f2e2e40-54c5-4daa-8142-55db7fd6056f",
   "metadata": {},
   "outputs": [
    {
     "data": {
      "text/plain": [
       "{'importances_mean': array([0.01938983, 0.04749153, 0.03677966, 0.00074576, 0.03891525,\n",
       "        0.05755932, 0.01169492, 0.03057627, 0.02183051, 0.        ,\n",
       "        0.06040678, 0.02569492]),\n",
       " 'importances_std': array([0.00191037, 0.00200803, 0.00389241, 0.0004982 , 0.00227296,\n",
       "        0.00225774, 0.00173677, 0.00256286, 0.00145565, 0.        ,\n",
       "        0.00184924, 0.00199281]),\n",
       " 'importances': array([[0.02169492, 0.02067797, 0.0179661 , 0.01728814, 0.02067797,\n",
       "         0.01966102, 0.0179661 , 0.0220339 , 0.0159322 , 0.02      ],\n",
       "        [0.05220339, 0.04644068, 0.04847458, 0.04644068, 0.04779661,\n",
       "         0.04372881, 0.04711864, 0.04813559, 0.04745763, 0.04711864],\n",
       "        [0.0359322 , 0.03389831, 0.03694915, 0.04      , 0.03254237,\n",
       "         0.0359322 , 0.03457627, 0.03389831, 0.03728814, 0.04677966],\n",
       "        [0.00135593, 0.00033898, 0.        , 0.00135593, 0.00135593,\n",
       "         0.00067797, 0.00067797, 0.        , 0.00067797, 0.00101695],\n",
       "        [0.03830508, 0.0359322 , 0.03898305, 0.0379661 , 0.04508475,\n",
       "         0.03864407, 0.03830508, 0.03932203, 0.03728814, 0.03932203],\n",
       "        [0.05491525, 0.06271186, 0.05491525, 0.0579661 , 0.05830508,\n",
       "         0.05694915, 0.05966102, 0.05559322, 0.05661017, 0.0579661 ],\n",
       "        [0.00915254, 0.00881356, 0.01355932, 0.01118644, 0.01050847,\n",
       "         0.01288136, 0.01389831, 0.01118644, 0.01220339, 0.01355932],\n",
       "        [0.02745763, 0.03118644, 0.03288136, 0.03491525, 0.02508475,\n",
       "         0.03118644, 0.03016949, 0.03118644, 0.03050847, 0.03118644],\n",
       "        [0.02305085, 0.0240678 , 0.02271186, 0.02      , 0.02067797,\n",
       "         0.02169492, 0.01932203, 0.02101695, 0.02305085, 0.02271186],\n",
       "        [0.        , 0.        , 0.        , 0.        , 0.        ,\n",
       "         0.        , 0.        , 0.        , 0.        , 0.        ],\n",
       "        [0.06338983, 0.06067797, 0.06033898, 0.06305085, 0.06067797,\n",
       "         0.05966102, 0.05728814, 0.05864407, 0.05864407, 0.06169492],\n",
       "        [0.02677966, 0.02677966, 0.02644068, 0.0240678 , 0.02576271,\n",
       "         0.02881356, 0.02338983, 0.02576271, 0.02169492, 0.02745763]])}"
      ]
     },
     "execution_count": 182,
     "metadata": {},
     "output_type": "execute_result"
    }
   ],
   "source": [
    "results"
   ]
  },
  {
   "cell_type": "code",
   "execution_count": 187,
   "id": "5d643a35-84bb-4373-afba-28cc4bf4ca10",
   "metadata": {},
   "outputs": [
    {
     "data": {
      "text/html": [
       "<div>\n",
       "<style scoped>\n",
       "    .dataframe tbody tr th:only-of-type {\n",
       "        vertical-align: middle;\n",
       "    }\n",
       "\n",
       "    .dataframe tbody tr th {\n",
       "        vertical-align: top;\n",
       "    }\n",
       "\n",
       "    .dataframe thead th {\n",
       "        text-align: right;\n",
       "    }\n",
       "</style>\n",
       "<table border=\"1\" class=\"dataframe\">\n",
       "  <thead>\n",
       "    <tr style=\"text-align: right;\">\n",
       "      <th></th>\n",
       "      <th>Feature Importance</th>\n",
       "      <th>STD</th>\n",
       "    </tr>\n",
       "  </thead>\n",
       "  <tbody>\n",
       "    <tr>\n",
       "      <th>Status</th>\n",
       "      <td>0.060407</td>\n",
       "      <td>0.001849</td>\n",
       "    </tr>\n",
       "    <tr>\n",
       "      <th>Frequency of use</th>\n",
       "      <td>0.057559</td>\n",
       "      <td>0.002258</td>\n",
       "    </tr>\n",
       "    <tr>\n",
       "      <th>Complains</th>\n",
       "      <td>0.047492</td>\n",
       "      <td>0.002008</td>\n",
       "    </tr>\n",
       "    <tr>\n",
       "      <th>Seconds of Use</th>\n",
       "      <td>0.038915</td>\n",
       "      <td>0.002273</td>\n",
       "    </tr>\n",
       "    <tr>\n",
       "      <th>Subscription  Length</th>\n",
       "      <td>0.036780</td>\n",
       "      <td>0.003892</td>\n",
       "    </tr>\n",
       "    <tr>\n",
       "      <th>Distinct Called Numbers</th>\n",
       "      <td>0.030576</td>\n",
       "      <td>0.002563</td>\n",
       "    </tr>\n",
       "    <tr>\n",
       "      <th>Customer Value</th>\n",
       "      <td>0.025695</td>\n",
       "      <td>0.001993</td>\n",
       "    </tr>\n",
       "    <tr>\n",
       "      <th>Age Group</th>\n",
       "      <td>0.021831</td>\n",
       "      <td>0.001456</td>\n",
       "    </tr>\n",
       "    <tr>\n",
       "      <th>Call  Failure</th>\n",
       "      <td>0.019390</td>\n",
       "      <td>0.001910</td>\n",
       "    </tr>\n",
       "    <tr>\n",
       "      <th>Frequency of SMS</th>\n",
       "      <td>0.011695</td>\n",
       "      <td>0.001737</td>\n",
       "    </tr>\n",
       "    <tr>\n",
       "      <th>Charge  Amount</th>\n",
       "      <td>0.000746</td>\n",
       "      <td>0.000498</td>\n",
       "    </tr>\n",
       "    <tr>\n",
       "      <th>Tariff Plan</th>\n",
       "      <td>0.000000</td>\n",
       "      <td>0.000000</td>\n",
       "    </tr>\n",
       "  </tbody>\n",
       "</table>\n",
       "</div>"
      ],
      "text/plain": [
       "                         Feature Importance       STD\n",
       "Status                             0.060407  0.001849\n",
       "Frequency of use                   0.057559  0.002258\n",
       "Complains                          0.047492  0.002008\n",
       "Seconds of Use                     0.038915  0.002273\n",
       "Subscription  Length               0.036780  0.003892\n",
       "Distinct Called Numbers            0.030576  0.002563\n",
       "Customer Value                     0.025695  0.001993\n",
       "Age Group                          0.021831  0.001456\n",
       "Call  Failure                      0.019390  0.001910\n",
       "Frequency of SMS                   0.011695  0.001737\n",
       "Charge  Amount                     0.000746  0.000498\n",
       "Tariff Plan                        0.000000  0.000000"
      ]
     },
     "execution_count": 187,
     "metadata": {},
     "output_type": "execute_result"
    }
   ],
   "source": [
    "## rearrange the results as dataframe\n",
    "results2 = pd.DataFrame({\"Feature Importance\": results['importances_mean'], \n",
    "                       \"STD\": results['importances_std']}, index=features)\n",
    "results2.sort_values(\"Feature Importance\", inplace=True, ascending=False)\n",
    "results2"
   ]
  },
  {
   "cell_type": "markdown",
   "id": "92f07f0f",
   "metadata": {},
   "source": [
    "## Practice 4. \n",
    "- Generate a horizontal bar plot to show the feature importance of different features in determining the customer churn. "
   ]
  },
  {
   "cell_type": "code",
   "execution_count": 189,
   "id": "e617d796-6492-4db8-ac9a-60c9398f2c23",
   "metadata": {},
   "outputs": [
    {
     "data": {
      "image/png": "[encoded data removed]",
      "text/plain": [
       "<Figure size 1000x600 with 1 Axes>"
      ]
     },
     "metadata": {},
     "output_type": "display_data"
    }
   ],
   "source": [
    "# your code here \n",
    "# Get the feature importances\n",
    "importances = rf.feature_importances_\n",
    "\n",
    "# Create a DataFrame to hold feature names and their importance scores\n",
    "feature_importance_df = pd.DataFrame({\n",
    "    'Feature': features,\n",
    "    'Importance': importances\n",
    "})\n",
    "\n",
    "# Sort the DataFrame by importance scores in descending order\n",
    "feature_importance_df = feature_importance_df.sort_values(by='Importance', ascending=False)\n",
    "\n",
    "# Plot the feature importance using a horizontal bar plot\n",
    "plt.figure(figsize=(10, 6))\n",
    "plt.barh(feature_importance_df['Feature'], feature_importance_df['Importance'], color='skyblue')\n",
    "plt.xlabel('Importance Score')\n",
    "plt.title('Feature Importance in Predicting Customer Churn')\n",
    "plt.gca().invert_yaxis()  # Invert the y-axis to have the most important feature at the top\n",
    "plt.show()"
   ]
  },
  {
   "cell_type": "code",
   "execution_count": null,
   "id": "0a2bcd38-85a6-4a4d-80ef-c60abf2c5005",
   "metadata": {},
   "outputs": [],
   "source": []
  }
 ],
 "metadata": {
  "kernelspec": {
   "display_name": "Python 3 (ipykernel)",
   "language": "python",
   "name": "python3"
  },
  "language_info": {
   "codemirror_mode": {
    "name": "ipython",
    "version": 3
   },
   "file_extension": ".py",
   "mimetype": "text/x-python",
   "name": "python",
   "nbconvert_exporter": "python",
   "pygments_lexer": "ipython3",
   "version": "3.11.5"
  }
 },
 "nbformat": 4,
 "nbformat_minor": 5
}
